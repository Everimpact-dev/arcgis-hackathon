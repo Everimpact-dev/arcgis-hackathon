{
 "cells": [
  {
   "cell_type": "code",
   "execution_count": 2,
   "id": "1aebe34c",
   "metadata": {},
   "outputs": [],
   "source": [
    "import os\n",
    "import numpy as np\n",
    "import pandas as pd\n",
    "import geopandas as gpd\n",
    "import rasterio as rio\n",
    "from rasterio.plot import show\n",
    "from rasterstats import zonal_stats\n",
    "\n",
    "import matplotlib.pyplot as plt"
   ]
  },
  {
   "cell_type": "code",
   "execution_count": 3,
   "id": "1ea59326",
   "metadata": {},
   "outputs": [],
   "source": [
    "path_GeoTiff = r\"E:\\Projects\\EverImpact\\GitLab\\ESRI_Hack2021\\OCO2_data\\GeoTiff\\City_Clip\"\n",
    "path_shapefile = r\"E:\\Projects\\EverImpact\\GitLab\\ESRI_Hack2021\""
   ]
  },
  {
   "cell_type": "code",
   "execution_count": 4,
   "id": "05a9afc7",
   "metadata": {},
   "outputs": [],
   "source": [
    "#Function to create a list of tif files, even when the tif files are stored in one location\n",
    "#it is good to check for the correct file names when looping over the content of a folder\n",
    " \n",
    "def clean_file_names(GeoTiff_name):\n",
    "    filename = \"\"\n",
    "\n",
    "    i = GeoTiff_name.find('_')\n",
    "    if i == len(\"Barnsley\"):                #check if the prefix is in the name      \n",
    "        i = GeoTiff_name.find('.')\n",
    "       \n",
    "        if i == len(\"Barnsley\")+3:          #check name and number e.g. Barnsley_10            \n",
    "            if GeoTiff_name[-4:] != \".tif\": #check for true tiff\n",
    "                filename = GeoTiff_name\n",
    "            #else:\n",
    "            #    print(GeoTiff_name + \" OK\")\n",
    "                \n",
    "        else:\n",
    "            filename = GeoTiff_name\n",
    "    else:        \n",
    "        filename = GeoTiff_name\n",
    "    \n",
    "    return filename"
   ]
  },
  {
   "cell_type": "code",
   "execution_count": 5,
   "id": "759b7368",
   "metadata": {},
   "outputs": [
    {
     "name": "stdout",
     "output_type": "stream",
     "text": [
      "Barnsley_merged2.tif\n",
      "Barnsley_22.tif.aux.xml\n",
      "Barnsley_03.tif.aux.xml\n",
      "Barnsley_02.tif.aux.xml\n",
      "Barnsley_01.tif.aux.xml\n",
      "['Barnsley_01.tif', 'Barnsley_02.tif', 'Barnsley_03.tif', 'Barnsley_04.tif', 'Barnsley_05.tif', 'Barnsley_06.tif', 'Barnsley_07.tif', 'Barnsley_08.tif', 'Barnsley_09.tif', 'Barnsley_10.tif', 'Barnsley_11.tif', 'Barnsley_12.tif', 'Barnsley_13.tif', 'Barnsley_14.tif', 'Barnsley_15.tif', 'Barnsley_16.tif', 'Barnsley_17.tif', 'Barnsley_18.tif', 'Barnsley_19.tif', 'Barnsley_20.tif', 'Barnsley_21.tif', 'Barnsley_22.tif']\n"
     ]
    }
   ],
   "source": [
    "GeoTiff_filenames = next(os.walk(path_GeoTiff))[2]\n",
    "# print(GeoTiff_filenames) #check for non geotiff files\n",
    "\n",
    "for item in GeoTiff_filenames[::-1]: #reversed search because of removal of items\n",
    "    not_tif = clean_file_names(item)\n",
    "    \n",
    "    if not_tif in GeoTiff_filenames:\n",
    "        print(not_tif)\n",
    "        GeoTiff_filenames.remove(not_tif)\n",
    "\n",
    "print(GeoTiff_filenames)\n"
   ]
  },
  {
   "cell_type": "code",
   "execution_count": 6,
   "id": "a25dfc9b",
   "metadata": {},
   "outputs": [
    {
     "data": {
      "text/plain": [
       "'E:\\\\Projects\\\\EverImpact\\\\GitLab\\\\ESRI_Hack2021\\\\Barnsley_LCLU_intersect.shp'"
      ]
     },
     "execution_count": 6,
     "metadata": {},
     "output_type": "execute_result"
    }
   ],
   "source": [
    "# Externally processed: \"Barnsley_LCLU_intersect.shp\"\n",
    "# This is the intersection of Land Cover land Use with a regular 1km grid\n",
    "\n",
    "zonal_shape = \"Barnsley_LCLU_intersect.shp\"\n",
    "zonal_path = os.path.join(path_shapefile, zonal_shape)\n",
    "zonal_path"
   ]
  },
  {
   "cell_type": "code",
   "execution_count": 7,
   "id": "d8466c1f",
   "metadata": {},
   "outputs": [
    {
     "data": {
      "text/html": [
       "<div>\n",
       "<style scoped>\n",
       "    .dataframe tbody tr th:only-of-type {\n",
       "        vertical-align: middle;\n",
       "    }\n",
       "\n",
       "    .dataframe tbody tr th {\n",
       "        vertical-align: top;\n",
       "    }\n",
       "\n",
       "    .dataframe thead th {\n",
       "        text-align: right;\n",
       "    }\n",
       "</style>\n",
       "<table border=\"1\" class=\"dataframe\">\n",
       "  <thead>\n",
       "    <tr style=\"text-align: right;\">\n",
       "      <th></th>\n",
       "      <th>fid</th>\n",
       "      <th>LCLU_recla</th>\n",
       "      <th>geometry</th>\n",
       "    </tr>\n",
       "  </thead>\n",
       "  <tbody>\n",
       "    <tr>\n",
       "      <th>0</th>\n",
       "      <td>56777.0</td>\n",
       "      <td>6</td>\n",
       "      <td>MULTIPOLYGON (((3541918.102 3439812.758, 35419...</td>\n",
       "    </tr>\n",
       "    <tr>\n",
       "      <th>1</th>\n",
       "      <td>56777.0</td>\n",
       "      <td>6</td>\n",
       "      <td>MULTIPOLYGON (((3541499.356 3438967.647, 35415...</td>\n",
       "    </tr>\n",
       "    <tr>\n",
       "      <th>2</th>\n",
       "      <td>56777.0</td>\n",
       "      <td>6</td>\n",
       "      <td>MULTIPOLYGON (((3542137.795 3440166.918, 35421...</td>\n",
       "    </tr>\n",
       "    <tr>\n",
       "      <th>3</th>\n",
       "      <td>56777.0</td>\n",
       "      <td>6</td>\n",
       "      <td>POLYGON ((3542062.795 3439942.894, 3542062.029...</td>\n",
       "    </tr>\n",
       "    <tr>\n",
       "      <th>4</th>\n",
       "      <td>56680.0</td>\n",
       "      <td>6</td>\n",
       "      <td>POLYGON ((3540798.382 3443039.873, 3540806.161...</td>\n",
       "    </tr>\n",
       "  </tbody>\n",
       "</table>\n",
       "</div>"
      ],
      "text/plain": [
       "       fid LCLU_recla                                           geometry\n",
       "0  56777.0          6  MULTIPOLYGON (((3541918.102 3439812.758, 35419...\n",
       "1  56777.0          6  MULTIPOLYGON (((3541499.356 3438967.647, 35415...\n",
       "2  56777.0          6  MULTIPOLYGON (((3542137.795 3440166.918, 35421...\n",
       "3  56777.0          6  POLYGON ((3542062.795 3439942.894, 3542062.029...\n",
       "4  56680.0          6  POLYGON ((3540798.382 3443039.873, 3540806.161..."
      ]
     },
     "execution_count": 7,
     "metadata": {},
     "output_type": "execute_result"
    }
   ],
   "source": [
    "gdf = gpd.read_file(zonal_path)\n",
    "gdf.head()"
   ]
  },
  {
   "cell_type": "code",
   "execution_count": 8,
   "id": "267f2e81",
   "metadata": {},
   "outputs": [
    {
     "data": {
      "text/plain": [
       "'E:\\\\Projects\\\\EverImpact\\\\GitLab\\\\ESRI_Hack2021\\\\OCO2_data\\\\GeoTiff\\\\City_Clip\\\\Barnsley_01.tif'"
      ]
     },
     "execution_count": 8,
     "metadata": {},
     "output_type": "execute_result"
    }
   ],
   "source": [
    "GeoTiff_name = GeoTiff_filenames[0]\n",
    "GeoTiff_path = os.path.join(path_GeoTiff, GeoTiff_name)\n",
    "GeoTiff_path"
   ]
  },
  {
   "cell_type": "code",
   "execution_count": 9,
   "id": "ebd47808",
   "metadata": {},
   "outputs": [],
   "source": [
    "raster_tif = rio.open(GeoTiff_path)"
   ]
  },
  {
   "cell_type": "code",
   "execution_count": 10,
   "id": "ea404313",
   "metadata": {},
   "outputs": [],
   "source": [
    "gdf['mean'] = pd.DataFrame(\n",
    "    zonal_stats(\n",
    "        vectors=gdf['geometry'], \n",
    "        raster=GeoTiff_path, \n",
    "        stats='mean'\n",
    "    )\n",
    ")['mean']"
   ]
  },
  {
   "cell_type": "code",
   "execution_count": 11,
   "id": "0cdb72d5",
   "metadata": {},
   "outputs": [],
   "source": [
    "#Checking for small polygons without information"
   ]
  },
  {
   "cell_type": "code",
   "execution_count": 12,
   "id": "be8567db",
   "metadata": {},
   "outputs": [
    {
     "data": {
      "text/plain": [
       "fid             0\n",
       "LCLU_recla      0\n",
       "geometry        0\n",
       "mean          502\n",
       "dtype: int64"
      ]
     },
     "execution_count": 12,
     "metadata": {},
     "output_type": "execute_result"
    }
   ],
   "source": [
    "gdf.isna().sum()"
   ]
  },
  {
   "cell_type": "code",
   "execution_count": 13,
   "id": "dd550df3",
   "metadata": {},
   "outputs": [],
   "source": [
    "gdf[\"area\"] =gdf['geometry'].area\n"
   ]
  },
  {
   "cell_type": "code",
   "execution_count": 14,
   "id": "7124328f",
   "metadata": {},
   "outputs": [
    {
     "name": "stdout",
     "output_type": "stream",
     "text": [
      "Missing Area Ratio is 0.0004 from 329237846 m2 \n"
     ]
    }
   ],
   "source": [
    "#gdf.isna().sum()\n",
    "total = gdf[\"area\"].sum()\n",
    "missing = gdf[gdf[\"mean\"].isna()][\"area\"].sum().sum()\n",
    "ratio = missing/total\n",
    "print(f\"Missing Area Ratio is {ratio:.4f} from {total:.0f} m2 \")"
   ]
  },
  {
   "cell_type": "code",
   "execution_count": 15,
   "id": "0c173561",
   "metadata": {},
   "outputs": [
    {
     "name": "stdout",
     "output_type": "stream",
     "text": [
      "file exists\n"
     ]
    },
    {
     "data": {
      "text/plain": [
       "False"
      ]
     },
     "execution_count": 15,
     "metadata": {},
     "output_type": "execute_result"
    }
   ],
   "source": [
    "from pathlib import Path\n",
    "#Output: Barnesley_LCLU_CO2.shp\n",
    "#This shapefile will hold all the CO2 values by month on the LCLU polygons\n",
    "zonal_ShapeFile = r\"E:\\Projects\\EverImpact\\GitLab\\ESRI_Hack2021\\00_Code\\Barnesley_LCLU_CO2.shp\"\n",
    "\n",
    "run_process = True #long process to compute, removing the file will recreate \n",
    "                   #and go through the 22 grid files\n",
    "\n",
    "my_file = Path(zonal_ShapeFile)\n",
    "if my_file.is_file():\n",
    "    # file exists\n",
    "    # long process, so check if it neccessary to rerun\n",
    "    print(\"file exists\")\n",
    "    run_process = False\n",
    "    \n",
    "\n",
    "run_process  "
   ]
  },
  {
   "cell_type": "code",
   "execution_count": 16,
   "id": "0b24a178",
   "metadata": {},
   "outputs": [
    {
     "name": "stdout",
     "output_type": "stream",
     "text": [
      "Process Skipped\n"
     ]
    }
   ],
   "source": [
    "# Run process with check\n",
    "i=0\n",
    "if run_process:\n",
    "    for item in GeoTiff_filenames:\n",
    "        GeoTiff_path = os.path.join(path_GeoTiff, item)\n",
    "\n",
    "        n = str(i).zfill(2)\n",
    "        print(n)\n",
    "\n",
    "        gdf['mean_'+ n] = pd.DataFrame(\n",
    "            zonal_stats(\n",
    "                vectors=gdf['geometry'], \n",
    "                raster=GeoTiff_path, \n",
    "                stats='mean'\n",
    "            )\n",
    "        )['mean']\n",
    "\n",
    "        i+=1\n",
    "        \n",
    "    gdf.to_file(zonal_ShapeFile)\n",
    "    \n",
    "else:\n",
    "    print(\"Process Skipped\")\n",
    "    gdf = gpd.read_file(zonal_ShapeFile)  \n",
    "    "
   ]
  },
  {
   "cell_type": "code",
   "execution_count": 17,
   "id": "a0041a21",
   "metadata": {},
   "outputs": [
    {
     "data": {
      "text/html": [
       "<div>\n",
       "<style scoped>\n",
       "    .dataframe tbody tr th:only-of-type {\n",
       "        vertical-align: middle;\n",
       "    }\n",
       "\n",
       "    .dataframe tbody tr th {\n",
       "        vertical-align: top;\n",
       "    }\n",
       "\n",
       "    .dataframe thead th {\n",
       "        text-align: right;\n",
       "    }\n",
       "</style>\n",
       "<table border=\"1\" class=\"dataframe\">\n",
       "  <thead>\n",
       "    <tr style=\"text-align: right;\">\n",
       "      <th></th>\n",
       "      <th>fid</th>\n",
       "      <th>mean</th>\n",
       "      <th>area</th>\n",
       "      <th>mean_00</th>\n",
       "      <th>mean_01</th>\n",
       "      <th>mean_02</th>\n",
       "      <th>mean_03</th>\n",
       "      <th>mean_04</th>\n",
       "      <th>mean_05</th>\n",
       "      <th>mean_06</th>\n",
       "      <th>...</th>\n",
       "      <th>mean_12</th>\n",
       "      <th>mean_13</th>\n",
       "      <th>mean_14</th>\n",
       "      <th>mean_15</th>\n",
       "      <th>mean_16</th>\n",
       "      <th>mean_17</th>\n",
       "      <th>mean_18</th>\n",
       "      <th>mean_19</th>\n",
       "      <th>mean_20</th>\n",
       "      <th>mean_21</th>\n",
       "    </tr>\n",
       "  </thead>\n",
       "  <tbody>\n",
       "    <tr>\n",
       "      <th>count</th>\n",
       "      <td>9909.000000</td>\n",
       "      <td>9407.000000</td>\n",
       "      <td>9909.000000</td>\n",
       "      <td>9407.000000</td>\n",
       "      <td>9407.000000</td>\n",
       "      <td>9407.000000</td>\n",
       "      <td>9407.000000</td>\n",
       "      <td>9407.000000</td>\n",
       "      <td>9407.000000</td>\n",
       "      <td>9407.000000</td>\n",
       "      <td>...</td>\n",
       "      <td>9407.000000</td>\n",
       "      <td>9407.000000</td>\n",
       "      <td>9407.000000</td>\n",
       "      <td>9407.000000</td>\n",
       "      <td>9407.000000</td>\n",
       "      <td>9407.000000</td>\n",
       "      <td>9407.000000</td>\n",
       "      <td>9407.000000</td>\n",
       "      <td>9407.000000</td>\n",
       "      <td>9407.000000</td>\n",
       "    </tr>\n",
       "    <tr>\n",
       "      <th>mean</th>\n",
       "      <td>14052.109900</td>\n",
       "      <td>405.535570</td>\n",
       "      <td>33226.142487</td>\n",
       "      <td>405.535570</td>\n",
       "      <td>398.237079</td>\n",
       "      <td>400.090245</td>\n",
       "      <td>409.338444</td>\n",
       "      <td>402.604945</td>\n",
       "      <td>402.729592</td>\n",
       "      <td>411.581439</td>\n",
       "      <td>...</td>\n",
       "      <td>415.119894</td>\n",
       "      <td>417.677115</td>\n",
       "      <td>411.188454</td>\n",
       "      <td>419.092113</td>\n",
       "      <td>419.455310</td>\n",
       "      <td>411.085529</td>\n",
       "      <td>411.418640</td>\n",
       "      <td>413.188107</td>\n",
       "      <td>419.321149</td>\n",
       "      <td>420.680169</td>\n",
       "    </tr>\n",
       "    <tr>\n",
       "      <th>std</th>\n",
       "      <td>7322.172706</td>\n",
       "      <td>3.382904</td>\n",
       "      <td>79944.456353</td>\n",
       "      <td>3.382904</td>\n",
       "      <td>3.322021</td>\n",
       "      <td>3.305896</td>\n",
       "      <td>3.409303</td>\n",
       "      <td>3.386693</td>\n",
       "      <td>3.387741</td>\n",
       "      <td>3.442825</td>\n",
       "      <td>...</td>\n",
       "      <td>3.437285</td>\n",
       "      <td>3.458459</td>\n",
       "      <td>3.350033</td>\n",
       "      <td>3.414426</td>\n",
       "      <td>3.437983</td>\n",
       "      <td>3.417273</td>\n",
       "      <td>3.424105</td>\n",
       "      <td>3.439035</td>\n",
       "      <td>3.491142</td>\n",
       "      <td>3.502457</td>\n",
       "    </tr>\n",
       "    <tr>\n",
       "      <th>min</th>\n",
       "      <td>1.000000</td>\n",
       "      <td>401.262658</td>\n",
       "      <td>0.000000</td>\n",
       "      <td>401.262658</td>\n",
       "      <td>394.041091</td>\n",
       "      <td>394.852873</td>\n",
       "      <td>404.151109</td>\n",
       "      <td>397.671195</td>\n",
       "      <td>397.794304</td>\n",
       "      <td>406.764995</td>\n",
       "      <td>...</td>\n",
       "      <td>411.009674</td>\n",
       "      <td>413.541565</td>\n",
       "      <td>405.032281</td>\n",
       "      <td>412.817600</td>\n",
       "      <td>414.226183</td>\n",
       "      <td>406.912598</td>\n",
       "      <td>407.139709</td>\n",
       "      <td>408.958923</td>\n",
       "      <td>415.008263</td>\n",
       "      <td>416.353328</td>\n",
       "    </tr>\n",
       "    <tr>\n",
       "      <th>25%</th>\n",
       "      <td>8396.000000</td>\n",
       "      <td>402.036370</td>\n",
       "      <td>3801.854162</td>\n",
       "      <td>402.036370</td>\n",
       "      <td>394.800862</td>\n",
       "      <td>396.684092</td>\n",
       "      <td>405.838311</td>\n",
       "      <td>399.190545</td>\n",
       "      <td>399.314155</td>\n",
       "      <td>408.048455</td>\n",
       "      <td>...</td>\n",
       "      <td>411.572395</td>\n",
       "      <td>414.107748</td>\n",
       "      <td>407.844280</td>\n",
       "      <td>415.683669</td>\n",
       "      <td>415.949453</td>\n",
       "      <td>407.568846</td>\n",
       "      <td>407.898738</td>\n",
       "      <td>409.646492</td>\n",
       "      <td>415.731777</td>\n",
       "      <td>417.079175</td>\n",
       "    </tr>\n",
       "    <tr>\n",
       "      <th>50%</th>\n",
       "      <td>13682.000000</td>\n",
       "      <td>405.385091</td>\n",
       "      <td>10456.163597</td>\n",
       "      <td>405.385091</td>\n",
       "      <td>398.089274</td>\n",
       "      <td>399.953152</td>\n",
       "      <td>409.199161</td>\n",
       "      <td>402.441051</td>\n",
       "      <td>402.565652</td>\n",
       "      <td>411.439418</td>\n",
       "      <td>...</td>\n",
       "      <td>415.096313</td>\n",
       "      <td>417.653351</td>\n",
       "      <td>411.184313</td>\n",
       "      <td>419.087891</td>\n",
       "      <td>419.457733</td>\n",
       "      <td>411.048401</td>\n",
       "      <td>411.381055</td>\n",
       "      <td>413.149121</td>\n",
       "      <td>419.269576</td>\n",
       "      <td>420.628418</td>\n",
       "    </tr>\n",
       "    <tr>\n",
       "      <th>75%</th>\n",
       "      <td>19649.000000</td>\n",
       "      <td>408.556126</td>\n",
       "      <td>26903.971195</td>\n",
       "      <td>408.556126</td>\n",
       "      <td>401.203267</td>\n",
       "      <td>403.002151</td>\n",
       "      <td>412.351862</td>\n",
       "      <td>405.584570</td>\n",
       "      <td>405.710151</td>\n",
       "      <td>414.630459</td>\n",
       "      <td>...</td>\n",
       "      <td>418.052718</td>\n",
       "      <td>420.628037</td>\n",
       "      <td>413.982923</td>\n",
       "      <td>421.940284</td>\n",
       "      <td>422.358758</td>\n",
       "      <td>414.014313</td>\n",
       "      <td>414.351453</td>\n",
       "      <td>416.133433</td>\n",
       "      <td>422.310033</td>\n",
       "      <td>423.678781</td>\n",
       "    </tr>\n",
       "    <tr>\n",
       "      <th>max</th>\n",
       "      <td>65052.000000</td>\n",
       "      <td>414.079590</td>\n",
       "      <td>1000000.000000</td>\n",
       "      <td>414.079590</td>\n",
       "      <td>406.627319</td>\n",
       "      <td>408.350879</td>\n",
       "      <td>418.069275</td>\n",
       "      <td>411.469055</td>\n",
       "      <td>411.596436</td>\n",
       "      <td>420.409119</td>\n",
       "      <td>...</td>\n",
       "      <td>423.563965</td>\n",
       "      <td>426.173218</td>\n",
       "      <td>421.002228</td>\n",
       "      <td>429.094513</td>\n",
       "      <td>428.692810</td>\n",
       "      <td>419.558929</td>\n",
       "      <td>419.968475</td>\n",
       "      <td>421.770264</td>\n",
       "      <td>428.096924</td>\n",
       "      <td>429.484375</td>\n",
       "    </tr>\n",
       "  </tbody>\n",
       "</table>\n",
       "<p>8 rows × 25 columns</p>\n",
       "</div>"
      ],
      "text/plain": [
       "                fid         mean            area      mean_00      mean_01  \\\n",
       "count   9909.000000  9407.000000     9909.000000  9407.000000  9407.000000   \n",
       "mean   14052.109900   405.535570    33226.142487   405.535570   398.237079   \n",
       "std     7322.172706     3.382904    79944.456353     3.382904     3.322021   \n",
       "min        1.000000   401.262658        0.000000   401.262658   394.041091   \n",
       "25%     8396.000000   402.036370     3801.854162   402.036370   394.800862   \n",
       "50%    13682.000000   405.385091    10456.163597   405.385091   398.089274   \n",
       "75%    19649.000000   408.556126    26903.971195   408.556126   401.203267   \n",
       "max    65052.000000   414.079590  1000000.000000   414.079590   406.627319   \n",
       "\n",
       "           mean_02      mean_03      mean_04      mean_05      mean_06  ...  \\\n",
       "count  9407.000000  9407.000000  9407.000000  9407.000000  9407.000000  ...   \n",
       "mean    400.090245   409.338444   402.604945   402.729592   411.581439  ...   \n",
       "std       3.305896     3.409303     3.386693     3.387741     3.442825  ...   \n",
       "min     394.852873   404.151109   397.671195   397.794304   406.764995  ...   \n",
       "25%     396.684092   405.838311   399.190545   399.314155   408.048455  ...   \n",
       "50%     399.953152   409.199161   402.441051   402.565652   411.439418  ...   \n",
       "75%     403.002151   412.351862   405.584570   405.710151   414.630459  ...   \n",
       "max     408.350879   418.069275   411.469055   411.596436   420.409119  ...   \n",
       "\n",
       "           mean_12      mean_13      mean_14      mean_15      mean_16  \\\n",
       "count  9407.000000  9407.000000  9407.000000  9407.000000  9407.000000   \n",
       "mean    415.119894   417.677115   411.188454   419.092113   419.455310   \n",
       "std       3.437285     3.458459     3.350033     3.414426     3.437983   \n",
       "min     411.009674   413.541565   405.032281   412.817600   414.226183   \n",
       "25%     411.572395   414.107748   407.844280   415.683669   415.949453   \n",
       "50%     415.096313   417.653351   411.184313   419.087891   419.457733   \n",
       "75%     418.052718   420.628037   413.982923   421.940284   422.358758   \n",
       "max     423.563965   426.173218   421.002228   429.094513   428.692810   \n",
       "\n",
       "           mean_17      mean_18      mean_19      mean_20      mean_21  \n",
       "count  9407.000000  9407.000000  9407.000000  9407.000000  9407.000000  \n",
       "mean    411.085529   411.418640   413.188107   419.321149   420.680169  \n",
       "std       3.417273     3.424105     3.439035     3.491142     3.502457  \n",
       "min     406.912598   407.139709   408.958923   415.008263   416.353328  \n",
       "25%     407.568846   407.898738   409.646492   415.731777   417.079175  \n",
       "50%     411.048401   411.381055   413.149121   419.269576   420.628418  \n",
       "75%     414.014313   414.351453   416.133433   422.310033   423.678781  \n",
       "max     419.558929   419.968475   421.770264   428.096924   429.484375  \n",
       "\n",
       "[8 rows x 25 columns]"
      ]
     },
     "execution_count": 17,
     "metadata": {},
     "output_type": "execute_result"
    }
   ],
   "source": [
    "gdf.describe()"
   ]
  },
  {
   "cell_type": "code",
   "execution_count": 18,
   "id": "599c6593",
   "metadata": {},
   "outputs": [],
   "source": [
    "#gdf.head()"
   ]
  },
  {
   "cell_type": "code",
   "execution_count": 19,
   "id": "482f229e",
   "metadata": {},
   "outputs": [],
   "source": [
    "#checking the data (setting a subset) "
   ]
  },
  {
   "cell_type": "code",
   "execution_count": 20,
   "id": "11f3ed8e",
   "metadata": {
    "scrolled": true
   },
   "outputs": [],
   "source": [
    "row = gdf.iloc[1001:2000]\n",
    "\n",
    "a =row.iloc[:, 5:].T\n",
    "a.reset_index(inplace=True)\n",
    "\n",
    "a.drop(a[a[\"index\"] == \"geometry\"].index, inplace=True)\n",
    "a.drop([\"index\"], axis=1, inplace=True)\n"
   ]
  },
  {
   "cell_type": "code",
   "execution_count": 21,
   "id": "370fff9e",
   "metadata": {},
   "outputs": [
    {
     "data": {
      "image/png": "[encoded data removed]",
      "text/plain": [
       "<Figure size 432x288 with 1 Axes>"
      ]
     },
     "metadata": {
      "needs_background": "light"
     },
     "output_type": "display_data"
    }
   ],
   "source": [
    "fig, ax = plt.subplots()\n",
    "a[:].plot(ax=ax, legend=False)\n",
    "\n",
    "#ax.set_ylabel('Land Cover Polygons (count)')\n",
    "#ax.set_xlabel('CO2 concnetration (ppm)')\n",
    "#ax.legend([\"2015-05\", \"2021-05\"]);\n",
    "#ax.grid(axis='y')\n",
    "\n",
    "ax.set_facecolor('#d8dcd6')"
   ]
  },
  {
   "cell_type": "code",
   "execution_count": 22,
   "id": "3be144a2",
   "metadata": {},
   "outputs": [
    {
     "data": {
      "text/plain": [
       "<AxesSubplot:ylabel='Frequency'>"
      ]
     },
     "execution_count": 22,
     "metadata": {},
     "output_type": "execute_result"
    },
    {
     "data": {
      "image/png": "[encoded data removed]",
      "text/plain": [
       "<Figure size 432x288 with 1 Axes>"
      ]
     },
     "metadata": {
      "needs_background": "light"
     },
     "output_type": "display_data"
    }
   ],
   "source": [
    "b=a[12:13].T #.plot()\n",
    "b=b[2:]\n",
    "b.plot.hist(bins=50)"
   ]
  },
  {
   "cell_type": "code",
   "execution_count": 23,
   "id": "f094affd",
   "metadata": {},
   "outputs": [],
   "source": [
    "b = gdf[[\"mean_00\", \"mean_10\", \"mean_16\",\"mean_21\"]]"
   ]
  },
  {
   "cell_type": "code",
   "execution_count": 24,
   "id": "14caa4af",
   "metadata": {},
   "outputs": [
    {
     "data": {
      "image/png": "[encoded data removed]",
      "text/plain": [
       "<Figure size 432x288 with 1 Axes>"
      ]
     },
     "metadata": {
      "needs_background": "light"
     },
     "output_type": "display_data"
    }
   ],
   "source": [
    "import matplotlib.pyplot as plt\n",
    "\n",
    "fig, ax = plt.subplots()\n",
    "#dist.plot.kde(ax=ax, legend=False, title='Histogram: A vs. B')\n",
    "b.plot.hist(ax=ax, bins=50)\n",
    "\n",
    "ax.set_ylabel('Land Cover Polygons (count)')\n",
    "ax.set_xlabel('CO2 concnetration (ppm)')\n",
    "ax.legend([\"2015-05\", \"2018-08\", \"2021-05\", \"2021-05\"]);\n",
    "ax.grid(axis='y')\n",
    "\n",
    "ax.set_facecolor('#d8dcd6')"
   ]
  },
  {
   "cell_type": "code",
   "execution_count": 25,
   "id": "8d7e8b85",
   "metadata": {},
   "outputs": [
    {
     "data": {
      "text/html": [
       "<div>\n",
       "<style scoped>\n",
       "    .dataframe tbody tr th:only-of-type {\n",
       "        vertical-align: middle;\n",
       "    }\n",
       "\n",
       "    .dataframe tbody tr th {\n",
       "        vertical-align: top;\n",
       "    }\n",
       "\n",
       "    .dataframe thead th {\n",
       "        text-align: right;\n",
       "    }\n",
       "</style>\n",
       "<table border=\"1\" class=\"dataframe\">\n",
       "  <thead>\n",
       "    <tr style=\"text-align: right;\">\n",
       "      <th></th>\n",
       "      <th>mean_00</th>\n",
       "      <th>mean_10</th>\n",
       "      <th>mean_16</th>\n",
       "      <th>mean_21</th>\n",
       "    </tr>\n",
       "  </thead>\n",
       "  <tbody>\n",
       "    <tr>\n",
       "      <th>count</th>\n",
       "      <td>9407.000000</td>\n",
       "      <td>9407.000000</td>\n",
       "      <td>9407.000000</td>\n",
       "      <td>9407.000000</td>\n",
       "    </tr>\n",
       "    <tr>\n",
       "      <th>mean</th>\n",
       "      <td>405.535570</td>\n",
       "      <td>408.158120</td>\n",
       "      <td>419.455310</td>\n",
       "      <td>420.680169</td>\n",
       "    </tr>\n",
       "    <tr>\n",
       "      <th>std</th>\n",
       "      <td>3.382904</td>\n",
       "      <td>3.398274</td>\n",
       "      <td>3.437983</td>\n",
       "      <td>3.502457</td>\n",
       "    </tr>\n",
       "    <tr>\n",
       "      <th>min</th>\n",
       "      <td>401.262658</td>\n",
       "      <td>403.607258</td>\n",
       "      <td>414.226183</td>\n",
       "      <td>416.353328</td>\n",
       "    </tr>\n",
       "    <tr>\n",
       "      <th>25%</th>\n",
       "      <td>402.036370</td>\n",
       "      <td>404.635345</td>\n",
       "      <td>415.949453</td>\n",
       "      <td>417.079175</td>\n",
       "    </tr>\n",
       "    <tr>\n",
       "      <th>50%</th>\n",
       "      <td>405.385091</td>\n",
       "      <td>408.013272</td>\n",
       "      <td>419.457733</td>\n",
       "      <td>420.628418</td>\n",
       "    </tr>\n",
       "    <tr>\n",
       "      <th>75%</th>\n",
       "      <td>408.556126</td>\n",
       "      <td>411.189163</td>\n",
       "      <td>422.358758</td>\n",
       "      <td>423.678781</td>\n",
       "    </tr>\n",
       "    <tr>\n",
       "      <th>max</th>\n",
       "      <td>414.079590</td>\n",
       "      <td>416.680237</td>\n",
       "      <td>428.692810</td>\n",
       "      <td>429.484375</td>\n",
       "    </tr>\n",
       "  </tbody>\n",
       "</table>\n",
       "</div>"
      ],
      "text/plain": [
       "           mean_00      mean_10      mean_16      mean_21\n",
       "count  9407.000000  9407.000000  9407.000000  9407.000000\n",
       "mean    405.535570   408.158120   419.455310   420.680169\n",
       "std       3.382904     3.398274     3.437983     3.502457\n",
       "min     401.262658   403.607258   414.226183   416.353328\n",
       "25%     402.036370   404.635345   415.949453   417.079175\n",
       "50%     405.385091   408.013272   419.457733   420.628418\n",
       "75%     408.556126   411.189163   422.358758   423.678781\n",
       "max     414.079590   416.680237   428.692810   429.484375"
      ]
     },
     "execution_count": 25,
     "metadata": {},
     "output_type": "execute_result"
    }
   ],
   "source": [
    "b.describe()"
   ]
  },
  {
   "cell_type": "code",
   "execution_count": 26,
   "id": "e2dbaec4",
   "metadata": {},
   "outputs": [
    {
     "data": {
      "text/html": [
       "<div>\n",
       "<style scoped>\n",
       "    .dataframe tbody tr th:only-of-type {\n",
       "        vertical-align: middle;\n",
       "    }\n",
       "\n",
       "    .dataframe tbody tr th {\n",
       "        vertical-align: top;\n",
       "    }\n",
       "\n",
       "    .dataframe thead th {\n",
       "        text-align: right;\n",
       "    }\n",
       "</style>\n",
       "<table border=\"1\" class=\"dataframe\">\n",
       "  <thead>\n",
       "    <tr style=\"text-align: right;\">\n",
       "      <th></th>\n",
       "      <th>Date</th>\n",
       "      <th>ID</th>\n",
       "      <th>Year</th>\n",
       "      <th>Month</th>\n",
       "      <th>Label</th>\n",
       "      <th>OBS</th>\n",
       "    </tr>\n",
       "  </thead>\n",
       "  <tbody>\n",
       "    <tr>\n",
       "      <th>0</th>\n",
       "      <td>15/05/2015</td>\n",
       "      <td>0</td>\n",
       "      <td>2015</td>\n",
       "      <td>5</td>\n",
       "      <td>2015-05</td>\n",
       "      <td>1</td>\n",
       "    </tr>\n",
       "    <tr>\n",
       "      <th>1</th>\n",
       "      <td>15/06/2015</td>\n",
       "      <td>1</td>\n",
       "      <td>2015</td>\n",
       "      <td>6</td>\n",
       "      <td>2015-06</td>\n",
       "      <td>0</td>\n",
       "    </tr>\n",
       "    <tr>\n",
       "      <th>2</th>\n",
       "      <td>15/07/2015</td>\n",
       "      <td>2</td>\n",
       "      <td>2015</td>\n",
       "      <td>7</td>\n",
       "      <td>2015-07</td>\n",
       "      <td>0</td>\n",
       "    </tr>\n",
       "    <tr>\n",
       "      <th>3</th>\n",
       "      <td>15/08/2015</td>\n",
       "      <td>3</td>\n",
       "      <td>2015</td>\n",
       "      <td>8</td>\n",
       "      <td>2015-08</td>\n",
       "      <td>0</td>\n",
       "    </tr>\n",
       "    <tr>\n",
       "      <th>4</th>\n",
       "      <td>15/09/2015</td>\n",
       "      <td>4</td>\n",
       "      <td>2015</td>\n",
       "      <td>9</td>\n",
       "      <td>2015-09</td>\n",
       "      <td>2</td>\n",
       "    </tr>\n",
       "    <tr>\n",
       "      <th>...</th>\n",
       "      <td>...</td>\n",
       "      <td>...</td>\n",
       "      <td>...</td>\n",
       "      <td>...</td>\n",
       "      <td>...</td>\n",
       "      <td>...</td>\n",
       "    </tr>\n",
       "    <tr>\n",
       "      <th>73</th>\n",
       "      <td>15/06/2021</td>\n",
       "      <td>73</td>\n",
       "      <td>2021</td>\n",
       "      <td>6</td>\n",
       "      <td>2021-06</td>\n",
       "      <td>0</td>\n",
       "    </tr>\n",
       "    <tr>\n",
       "      <th>74</th>\n",
       "      <td>15/07/2021</td>\n",
       "      <td>74</td>\n",
       "      <td>2021</td>\n",
       "      <td>7</td>\n",
       "      <td>2021-07</td>\n",
       "      <td>0</td>\n",
       "    </tr>\n",
       "    <tr>\n",
       "      <th>75</th>\n",
       "      <td>15/08/2021</td>\n",
       "      <td>75</td>\n",
       "      <td>2021</td>\n",
       "      <td>8</td>\n",
       "      <td>2021-08</td>\n",
       "      <td>0</td>\n",
       "    </tr>\n",
       "    <tr>\n",
       "      <th>76</th>\n",
       "      <td>15/09/2021</td>\n",
       "      <td>76</td>\n",
       "      <td>2021</td>\n",
       "      <td>9</td>\n",
       "      <td>2021-09</td>\n",
       "      <td>0</td>\n",
       "    </tr>\n",
       "    <tr>\n",
       "      <th>77</th>\n",
       "      <td>15/10/2021</td>\n",
       "      <td>77</td>\n",
       "      <td>2021</td>\n",
       "      <td>10</td>\n",
       "      <td>2021-10</td>\n",
       "      <td>0</td>\n",
       "    </tr>\n",
       "  </tbody>\n",
       "</table>\n",
       "<p>78 rows × 6 columns</p>\n",
       "</div>"
      ],
      "text/plain": [
       "          Date  ID  Year  Month    Label  OBS\n",
       "0   15/05/2015   0  2015      5  2015-05    1\n",
       "1   15/06/2015   1  2015      6  2015-06    0\n",
       "2   15/07/2015   2  2015      7  2015-07    0\n",
       "3   15/08/2015   3  2015      8  2015-08    0\n",
       "4   15/09/2015   4  2015      9  2015-09    2\n",
       "..         ...  ..   ...    ...      ...  ...\n",
       "73  15/06/2021  73  2021      6  2021-06    0\n",
       "74  15/07/2021  74  2021      7  2021-07    0\n",
       "75  15/08/2021  75  2021      8  2021-08    0\n",
       "76  15/09/2021  76  2021      9  2021-09    0\n",
       "77  15/10/2021  77  2021     10  2021-10    0\n",
       "\n",
       "[78 rows x 6 columns]"
      ]
     },
     "execution_count": 26,
     "metadata": {},
     "output_type": "execute_result"
    }
   ],
   "source": [
    "# Load the observation table and interpolation table\n",
    "fname = r\"E:\\Projects\\EverImpact\\GitLab\\ESRI_Hack2021\\00_Code\\observation_months_date.csv\"\n",
    "calc_setup = pd.read_csv(fname)\n",
    "calc_setup"
   ]
  },
  {
   "cell_type": "code",
   "execution_count": 27,
   "id": "91653080",
   "metadata": {},
   "outputs": [],
   "source": [
    "from scipy.interpolate import pchip\n",
    "from scipy.interpolate import Rbf, InterpolatedUnivariateSpline\n",
    "from scipy.interpolate import CubicHermiteSpline\n"
   ]
  },
  {
   "cell_type": "code",
   "execution_count": 28,
   "id": "ac237c34",
   "metadata": {},
   "outputs": [],
   "source": [
    "# setup data\n",
    "x = np.linspace(0, 10, 9)\n",
    "y = np.sin(x)\n",
    "xi = np.linspace(0, 10, 101)"
   ]
  },
  {
   "cell_type": "code",
   "execution_count": 29,
   "id": "924d9a02",
   "metadata": {},
   "outputs": [],
   "source": [
    "# use fitpack2 method\n",
    "ius = InterpolatedUnivariateSpline(x, y)\n",
    "yi = ius(xi)"
   ]
  },
  {
   "cell_type": "code",
   "execution_count": 30,
   "id": "5004564b",
   "metadata": {},
   "outputs": [
    {
     "data": {
      "text/plain": [
       "Text(0.5, 1.0, 'Interpolation using univariate spline')"
      ]
     },
     "execution_count": 30,
     "metadata": {},
     "output_type": "execute_result"
    },
    {
     "data": {
      "image/png": "[encoded data removed]",
      "text/plain": [
       "<Figure size 432x288 with 1 Axes>"
      ]
     },
     "metadata": {
      "needs_background": "light"
     },
     "output_type": "display_data"
    }
   ],
   "source": [
    "plt.subplot(2, 1, 1)\n",
    "plt.plot(x, y, 'bo')\n",
    "plt.plot(xi, yi, 'g')\n",
    "plt.plot(xi, np.sin(xi), 'r')\n",
    "plt.title('Interpolation using univariate spline')"
   ]
  },
  {
   "cell_type": "code",
   "execution_count": 31,
   "id": "e258c2a2",
   "metadata": {},
   "outputs": [
    {
     "data": {
      "text/plain": [
       "23"
      ]
     },
     "execution_count": 31,
     "metadata": {},
     "output_type": "execute_result"
    }
   ],
   "source": [
    "#constructing the x labels for training\n",
    "x = list(calc_setup[calc_setup['OBS'] > 0][\"ID\"])\n",
    "x.append(77)\n",
    "len(x)\n",
    "#x"
   ]
  },
  {
   "cell_type": "code",
   "execution_count": 32,
   "id": "22766c39",
   "metadata": {},
   "outputs": [],
   "source": [
    "#gdf.head()"
   ]
  },
  {
   "cell_type": "code",
   "execution_count": 33,
   "id": "bbd946c3",
   "metadata": {},
   "outputs": [
    {
     "data": {
      "text/plain": [
       "23"
      ]
     },
     "execution_count": 33,
     "metadata": {},
     "output_type": "execute_result"
    }
   ],
   "source": [
    "#constructing the y labels for training\n",
    "y = gdf.iloc[[1], 4:-1].T.values.tolist()\n",
    "y.append([412])\n",
    "len(y)\n",
    "#y"
   ]
  },
  {
   "cell_type": "code",
   "execution_count": 34,
   "id": "5a85fdbf",
   "metadata": {},
   "outputs": [],
   "source": [
    "#constructing the xi container for the results\n",
    "xi = calc_setup[\"ID\"]\n",
    "#xi"
   ]
  },
  {
   "cell_type": "code",
   "execution_count": 35,
   "id": "a5aed1f1",
   "metadata": {},
   "outputs": [],
   "source": [
    "# use fitpack2 method\n",
    "ius = InterpolatedUnivariateSpline(x, y)\n",
    "yi = ius(xi)"
   ]
  },
  {
   "cell_type": "code",
   "execution_count": 36,
   "id": "4c8a7458",
   "metadata": {},
   "outputs": [
    {
     "data": {
      "text/plain": [
       "Text(0.5, 1.0, 'Interpolation using univariate spline')"
      ]
     },
     "execution_count": 36,
     "metadata": {},
     "output_type": "execute_result"
    },
    {
     "data": {
      "image/png": "[encoded data removed]",
      "text/plain": [
       "<Figure size 432x288 with 1 Axes>"
      ]
     },
     "metadata": {
      "needs_background": "light"
     },
     "output_type": "display_data"
    }
   ],
   "source": [
    "plt.subplot(2, 1, 1)\n",
    "plt.plot(x, y, 'bo')\n",
    "plt.plot(xi, yi, 'g')\n",
    "#plt.plot(xi, np.sin(xi), 'r')\n",
    "plt.title('Interpolation using univariate spline')"
   ]
  },
  {
   "cell_type": "code",
   "execution_count": 37,
   "id": "10d9ba3a",
   "metadata": {},
   "outputs": [],
   "source": [
    "# use RBF method\n",
    "rbf = Rbf(x, y)\n",
    "fi = rbf(xi)"
   ]
  },
  {
   "cell_type": "code",
   "execution_count": 38,
   "id": "9659ea11",
   "metadata": {},
   "outputs": [
    {
     "data": {
      "image/png": "[encoded data removed]",
      "text/plain": [
       "<Figure size 432x288 with 1 Axes>"
      ]
     },
     "metadata": {
      "needs_background": "light"
     },
     "output_type": "display_data"
    }
   ],
   "source": [
    "plt.subplot(2, 1, 2)\n",
    "plt.plot(x, y, 'bo')\n",
    "plt.plot(xi, fi, 'g')\n",
    "#plt.plot(xi, np.sin(xi), 'r')\n",
    "plt.title('Interpolation using RBF - multiquadrics')\n",
    "plt.show()"
   ]
  },
  {
   "cell_type": "code",
   "execution_count": 39,
   "id": "56b5b088",
   "metadata": {},
   "outputs": [],
   "source": [
    "#CubicHermiteSpline\n",
    "p = CubicHermiteSpline(x=x, y=y, dydx=np.zeros_like(y))  # interpolator\n",
    "fi = p(xi)\n"
   ]
  },
  {
   "cell_type": "code",
   "execution_count": 40,
   "id": "5b1e195e",
   "metadata": {},
   "outputs": [
    {
     "data": {
      "image/png": "[encoded data removed]",
      "text/plain": [
       "<Figure size 432x288 with 1 Axes>"
      ]
     },
     "metadata": {
      "needs_background": "light"
     },
     "output_type": "display_data"
    }
   ],
   "source": [
    "plt.subplot(2, 1, 2)\n",
    "plt.plot(x, y, 'bo')\n",
    "plt.plot(xi, fi, 'g')\n",
    "#plt.plot(xi, np.sin(xi), 'r')\n",
    "plt.title('Interpolation using Cubic-Hermite-Spline')\n",
    "plt.show()"
   ]
  },
  {
   "cell_type": "code",
   "execution_count": 41,
   "id": "e1bfc331",
   "metadata": {},
   "outputs": [],
   "source": [
    "#Interpolation using Cubic-Hermite-Spline gives the best results\n"
   ]
  },
  {
   "cell_type": "code",
   "execution_count": 42,
   "id": "fb57765a",
   "metadata": {},
   "outputs": [
    {
     "data": {
      "text/plain": [
       "array([], shape=(0, 79), dtype=float64)"
      ]
     },
     "execution_count": 42,
     "metadata": {},
     "output_type": "execute_result"
    }
   ],
   "source": [
    "new_table = np.empty((0, len(fi)+1), dtype=float)\n",
    "new_table"
   ]
  },
  {
   "cell_type": "code",
   "execution_count": 43,
   "id": "b87e214e",
   "metadata": {},
   "outputs": [
    {
     "name": "stdout",
     "output_type": "stream",
     "text": [
      "done\n"
     ]
    }
   ],
   "source": [
    "#Interpolating the CO2 value for all polygons using the \n",
    "#zonal statistic average and the selected method\n",
    "\n",
    "#the loop will go over all polygons in the study area (10.000),\n",
    "#and this could be optimised for larger datasets\n",
    "\n",
    "for row in range(0, len(gdf)):\n",
    "    #preparing y\n",
    "    y = gdf.iloc[[row], 4:-1].T.values.tolist()\n",
    "    b = True if True in np.isnan(np.array(y)) else False\n",
    "    if b:\n",
    "        #not complete\n",
    "        fi = [0] * len(xi)\n",
    "    else:\n",
    "        y.append([412])\n",
    "\n",
    "        p = CubicHermiteSpline(x=x, y=y, dydx=np.zeros_like(y))  # interpolator\n",
    "        fi = p(xi)\n",
    "        \n",
    "    pid = gdf[\"fid\"][row]\n",
    "    new_row = fi.copy()\n",
    "    \n",
    "    new_row = np.insert(new_row, 0, pid)\n",
    "    new_row = np.array(new_row)\n",
    "    new_row = np.transpose(new_row)\n",
    "\n",
    "    new_table = np.append(new_table, [new_row], axis=0)\n",
    "\n",
    "print(\"done\")"
   ]
  },
  {
   "cell_type": "code",
   "execution_count": 44,
   "id": "f51473ca",
   "metadata": {},
   "outputs": [],
   "source": [
    "#"
   ]
  },
  {
   "cell_type": "code",
   "execution_count": 45,
   "id": "3fd21f11",
   "metadata": {},
   "outputs": [
    {
     "data": {
      "text/html": [
       "<div>\n",
       "<style scoped>\n",
       "    .dataframe tbody tr th:only-of-type {\n",
       "        vertical-align: middle;\n",
       "    }\n",
       "\n",
       "    .dataframe tbody tr th {\n",
       "        vertical-align: top;\n",
       "    }\n",
       "\n",
       "    .dataframe thead th {\n",
       "        text-align: right;\n",
       "    }\n",
       "</style>\n",
       "<table border=\"1\" class=\"dataframe\">\n",
       "  <thead>\n",
       "    <tr style=\"text-align: right;\">\n",
       "      <th></th>\n",
       "      <th>0</th>\n",
       "      <th>1</th>\n",
       "      <th>2</th>\n",
       "      <th>3</th>\n",
       "      <th>4</th>\n",
       "      <th>5</th>\n",
       "      <th>6</th>\n",
       "      <th>7</th>\n",
       "      <th>8</th>\n",
       "      <th>9</th>\n",
       "      <th>...</th>\n",
       "      <th>69</th>\n",
       "      <th>70</th>\n",
       "      <th>71</th>\n",
       "      <th>72</th>\n",
       "      <th>73</th>\n",
       "      <th>74</th>\n",
       "      <th>75</th>\n",
       "      <th>76</th>\n",
       "      <th>77</th>\n",
       "      <th>78</th>\n",
       "    </tr>\n",
       "  </thead>\n",
       "  <tbody>\n",
       "    <tr>\n",
       "      <th>count</th>\n",
       "      <td>9909.000000</td>\n",
       "      <td>9909.000000</td>\n",
       "      <td>9909.000000</td>\n",
       "      <td>9909.000000</td>\n",
       "      <td>9909.000000</td>\n",
       "      <td>9909.000000</td>\n",
       "      <td>9909.000000</td>\n",
       "      <td>9909.000000</td>\n",
       "      <td>9909.000000</td>\n",
       "      <td>9909.000000</td>\n",
       "      <td>...</td>\n",
       "      <td>9909.000000</td>\n",
       "      <td>9909.000000</td>\n",
       "      <td>9909.000000</td>\n",
       "      <td>9909.000000</td>\n",
       "      <td>9909.000000</td>\n",
       "      <td>9909.000000</td>\n",
       "      <td>9909.000000</td>\n",
       "      <td>9909.000000</td>\n",
       "      <td>9909.000000</td>\n",
       "      <td>9909.000000</td>\n",
       "    </tr>\n",
       "    <tr>\n",
       "      <th>mean</th>\n",
       "      <td>14052.109900</td>\n",
       "      <td>384.990726</td>\n",
       "      <td>383.908111</td>\n",
       "      <td>381.526355</td>\n",
       "      <td>379.144600</td>\n",
       "      <td>378.061985</td>\n",
       "      <td>379.821267</td>\n",
       "      <td>380.307605</td>\n",
       "      <td>381.561844</td>\n",
       "      <td>383.276825</td>\n",
       "      <td>...</td>\n",
       "      <td>397.168174</td>\n",
       "      <td>398.077914</td>\n",
       "      <td>398.412402</td>\n",
       "      <td>399.033596</td>\n",
       "      <td>399.368084</td>\n",
       "      <td>398.511080</td>\n",
       "      <td>396.467456</td>\n",
       "      <td>394.028290</td>\n",
       "      <td>391.984666</td>\n",
       "      <td>391.127662</td>\n",
       "    </tr>\n",
       "    <tr>\n",
       "      <th>std</th>\n",
       "      <td>7322.172706</td>\n",
       "      <td>89.001330</td>\n",
       "      <td>88.751054</td>\n",
       "      <td>88.200445</td>\n",
       "      <td>87.649836</td>\n",
       "      <td>87.399559</td>\n",
       "      <td>87.805132</td>\n",
       "      <td>87.917607</td>\n",
       "      <td>88.207680</td>\n",
       "      <td>88.604320</td>\n",
       "      <td>...</td>\n",
       "      <td>91.816236</td>\n",
       "      <td>92.026555</td>\n",
       "      <td>92.103881</td>\n",
       "      <td>92.247487</td>\n",
       "      <td>92.324813</td>\n",
       "      <td>92.114500</td>\n",
       "      <td>91.618312</td>\n",
       "      <td>91.036052</td>\n",
       "      <td>90.556706</td>\n",
       "      <td>90.358026</td>\n",
       "    </tr>\n",
       "    <tr>\n",
       "      <th>min</th>\n",
       "      <td>1.000000</td>\n",
       "      <td>0.000000</td>\n",
       "      <td>0.000000</td>\n",
       "      <td>0.000000</td>\n",
       "      <td>0.000000</td>\n",
       "      <td>0.000000</td>\n",
       "      <td>0.000000</td>\n",
       "      <td>0.000000</td>\n",
       "      <td>0.000000</td>\n",
       "      <td>0.000000</td>\n",
       "      <td>...</td>\n",
       "      <td>0.000000</td>\n",
       "      <td>0.000000</td>\n",
       "      <td>0.000000</td>\n",
       "      <td>0.000000</td>\n",
       "      <td>0.000000</td>\n",
       "      <td>0.000000</td>\n",
       "      <td>0.000000</td>\n",
       "      <td>0.000000</td>\n",
       "      <td>0.000000</td>\n",
       "      <td>0.000000</td>\n",
       "    </tr>\n",
       "    <tr>\n",
       "      <th>25%</th>\n",
       "      <td>8396.000000</td>\n",
       "      <td>401.863932</td>\n",
       "      <td>400.733866</td>\n",
       "      <td>398.247721</td>\n",
       "      <td>395.761576</td>\n",
       "      <td>394.631510</td>\n",
       "      <td>396.482475</td>\n",
       "      <td>396.988415</td>\n",
       "      <td>398.295568</td>\n",
       "      <td>400.081886</td>\n",
       "      <td>...</td>\n",
       "      <td>414.592821</td>\n",
       "      <td>415.541016</td>\n",
       "      <td>415.890173</td>\n",
       "      <td>416.538608</td>\n",
       "      <td>416.887765</td>\n",
       "      <td>416.379437</td>\n",
       "      <td>415.167272</td>\n",
       "      <td>413.720493</td>\n",
       "      <td>412.508328</td>\n",
       "      <td>412.000000</td>\n",
       "    </tr>\n",
       "    <tr>\n",
       "      <th>50%</th>\n",
       "      <td>13682.000000</td>\n",
       "      <td>405.016190</td>\n",
       "      <td>403.877259</td>\n",
       "      <td>401.371611</td>\n",
       "      <td>398.865964</td>\n",
       "      <td>397.727033</td>\n",
       "      <td>399.591492</td>\n",
       "      <td>400.102735</td>\n",
       "      <td>401.414725</td>\n",
       "      <td>403.217370</td>\n",
       "      <td>...</td>\n",
       "      <td>417.849979</td>\n",
       "      <td>418.811608</td>\n",
       "      <td>419.163511</td>\n",
       "      <td>419.817043</td>\n",
       "      <td>420.168945</td>\n",
       "      <td>419.319375</td>\n",
       "      <td>417.293477</td>\n",
       "      <td>414.875469</td>\n",
       "      <td>412.849570</td>\n",
       "      <td>412.000000</td>\n",
       "    </tr>\n",
       "    <tr>\n",
       "      <th>75%</th>\n",
       "      <td>19649.000000</td>\n",
       "      <td>408.424303</td>\n",
       "      <td>407.275787</td>\n",
       "      <td>404.749050</td>\n",
       "      <td>402.222313</td>\n",
       "      <td>401.073796</td>\n",
       "      <td>402.872521</td>\n",
       "      <td>403.388090</td>\n",
       "      <td>404.720716</td>\n",
       "      <td>406.544296</td>\n",
       "      <td>...</td>\n",
       "      <td>421.215231</td>\n",
       "      <td>422.180269</td>\n",
       "      <td>422.535005</td>\n",
       "      <td>423.193801</td>\n",
       "      <td>423.548537</td>\n",
       "      <td>422.347489</td>\n",
       "      <td>419.483452</td>\n",
       "      <td>416.065085</td>\n",
       "      <td>413.201048</td>\n",
       "      <td>412.000000</td>\n",
       "    </tr>\n",
       "    <tr>\n",
       "      <th>max</th>\n",
       "      <td>65052.000000</td>\n",
       "      <td>414.079590</td>\n",
       "      <td>412.915173</td>\n",
       "      <td>410.353455</td>\n",
       "      <td>407.791737</td>\n",
       "      <td>406.627319</td>\n",
       "      <td>408.350879</td>\n",
       "      <td>408.887036</td>\n",
       "      <td>410.275708</td>\n",
       "      <td>412.174504</td>\n",
       "      <td>...</td>\n",
       "      <td>427.101469</td>\n",
       "      <td>428.096924</td>\n",
       "      <td>428.456633</td>\n",
       "      <td>429.124665</td>\n",
       "      <td>429.484375</td>\n",
       "      <td>427.666000</td>\n",
       "      <td>423.329875</td>\n",
       "      <td>418.154500</td>\n",
       "      <td>413.818375</td>\n",
       "      <td>412.000000</td>\n",
       "    </tr>\n",
       "  </tbody>\n",
       "</table>\n",
       "<p>8 rows × 79 columns</p>\n",
       "</div>"
      ],
      "text/plain": [
       "                 0            1            2            3            4   \\\n",
       "count   9909.000000  9909.000000  9909.000000  9909.000000  9909.000000   \n",
       "mean   14052.109900   384.990726   383.908111   381.526355   379.144600   \n",
       "std     7322.172706    89.001330    88.751054    88.200445    87.649836   \n",
       "min        1.000000     0.000000     0.000000     0.000000     0.000000   \n",
       "25%     8396.000000   401.863932   400.733866   398.247721   395.761576   \n",
       "50%    13682.000000   405.016190   403.877259   401.371611   398.865964   \n",
       "75%    19649.000000   408.424303   407.275787   404.749050   402.222313   \n",
       "max    65052.000000   414.079590   412.915173   410.353455   407.791737   \n",
       "\n",
       "                5            6            7            8            9   ...  \\\n",
       "count  9909.000000  9909.000000  9909.000000  9909.000000  9909.000000  ...   \n",
       "mean    378.061985   379.821267   380.307605   381.561844   383.276825  ...   \n",
       "std      87.399559    87.805132    87.917607    88.207680    88.604320  ...   \n",
       "min       0.000000     0.000000     0.000000     0.000000     0.000000  ...   \n",
       "25%     394.631510   396.482475   396.988415   398.295568   400.081886  ...   \n",
       "50%     397.727033   399.591492   400.102735   401.414725   403.217370  ...   \n",
       "75%     401.073796   402.872521   403.388090   404.720716   406.544296  ...   \n",
       "max     406.627319   408.350879   408.887036   410.275708   412.174504  ...   \n",
       "\n",
       "                69           70           71           72           73  \\\n",
       "count  9909.000000  9909.000000  9909.000000  9909.000000  9909.000000   \n",
       "mean    397.168174   398.077914   398.412402   399.033596   399.368084   \n",
       "std      91.816236    92.026555    92.103881    92.247487    92.324813   \n",
       "min       0.000000     0.000000     0.000000     0.000000     0.000000   \n",
       "25%     414.592821   415.541016   415.890173   416.538608   416.887765   \n",
       "50%     417.849979   418.811608   419.163511   419.817043   420.168945   \n",
       "75%     421.215231   422.180269   422.535005   423.193801   423.548537   \n",
       "max     427.101469   428.096924   428.456633   429.124665   429.484375   \n",
       "\n",
       "                74           75           76           77           78  \n",
       "count  9909.000000  9909.000000  9909.000000  9909.000000  9909.000000  \n",
       "mean    398.511080   396.467456   394.028290   391.984666   391.127662  \n",
       "std      92.114500    91.618312    91.036052    90.556706    90.358026  \n",
       "min       0.000000     0.000000     0.000000     0.000000     0.000000  \n",
       "25%     416.379437   415.167272   413.720493   412.508328   412.000000  \n",
       "50%     419.319375   417.293477   414.875469   412.849570   412.000000  \n",
       "75%     422.347489   419.483452   416.065085   413.201048   412.000000  \n",
       "max     427.666000   423.329875   418.154500   413.818375   412.000000  \n",
       "\n",
       "[8 rows x 79 columns]"
      ]
     },
     "execution_count": 45,
     "metadata": {},
     "output_type": "execute_result"
    }
   ],
   "source": [
    "df = pd.DataFrame(data=new_table)\n",
    "df.describe()"
   ]
  },
  {
   "cell_type": "code",
   "execution_count": 46,
   "id": "68d845b7",
   "metadata": {},
   "outputs": [
    {
     "name": "stdout",
     "output_type": "stream",
     "text": [
      "fid\n",
      "LCLU_recla\n",
      "geometry\n"
     ]
    }
   ],
   "source": [
    "new_gdf = gdf.copy()\n",
    "\n",
    "    \n",
    "new_gdf.drop(new_gdf.iloc[:, 2:26], inplace = True, axis = 1)\n",
    "\n",
    "for col in new_gdf.columns:\n",
    "    print(col)"
   ]
  },
  {
   "cell_type": "code",
   "execution_count": 47,
   "id": "63b2d245",
   "metadata": {},
   "outputs": [],
   "source": [
    "new_gdf = new_gdf.join(df, lsuffix='fid', rsuffix='fid')"
   ]
  },
  {
   "cell_type": "code",
   "execution_count": 48,
   "id": "a586a769",
   "metadata": {},
   "outputs": [],
   "source": [
    "new_gdf.drop(new_gdf.columns[[3]], axis = 1, inplace = True)\n"
   ]
  },
  {
   "cell_type": "code",
   "execution_count": 49,
   "id": "b6c07c8f",
   "metadata": {},
   "outputs": [],
   "source": [
    "col_idx = 0\n",
    "for col in new_gdf.columns:\n",
    "    #print(col)\n",
    "    \n",
    "    if isinstance(col, int):\n",
    "        #print(type(col))\n",
    "        AoI = \"Barnsley\"\n",
    "        ID = str(col-1).rjust(2, '0')\n",
    "        \n",
    "        new_gdf.rename(columns={new_gdf.columns[col_idx]: AoI+ID}, inplace=True)\n",
    "    \n",
    "    col_idx += 1\n",
    "    "
   ]
  },
  {
   "cell_type": "code",
   "execution_count": 50,
   "id": "1ca93bfc",
   "metadata": {},
   "outputs": [],
   "source": [
    "#for col in new_gdf.columns:\n",
    "#    print(col)"
   ]
  },
  {
   "cell_type": "code",
   "execution_count": 51,
   "id": "073d32d0",
   "metadata": {},
   "outputs": [],
   "source": [
    "# Storing the interpolated data to a new shapefile\n",
    "# this shapefile will be served as a FeatureLayer \n",
    "# on the ESRI Online platform and shared with both \n",
    "# the application and the story map\n",
    "\n",
    "detailed_ShapeFile = r\"E:\\Projects\\EverImpact\\GitLab\\ESRI_Hack2021\\00_Code\\Barnesley_LCLU_CO2_details.shp\"\n",
    "new_gdf.to_file(detailed_ShapeFile)"
   ]
  },
  {
   "cell_type": "code",
   "execution_count": 52,
   "id": "c2daad34",
   "metadata": {},
   "outputs": [],
   "source": [
    "new_gdf.replace(0, np.nan, inplace=True)"
   ]
  },
  {
   "cell_type": "code",
   "execution_count": 53,
   "id": "8bfe6b71",
   "metadata": {},
   "outputs": [],
   "source": [
    "df_mean = new_gdf.iloc[:, 3:82].mean(axis=0)"
   ]
  },
  {
   "cell_type": "code",
   "execution_count": 54,
   "id": "5e00024c",
   "metadata": {},
   "outputs": [
    {
     "data": {
      "text/plain": [
       "<AxesSubplot:>"
      ]
     },
     "execution_count": 54,
     "metadata": {},
     "output_type": "execute_result"
    },
    {
     "data": {
      "image/png": "[encoded data removed]",
      "text/plain": [
       "<Figure size 432x288 with 1 Axes>"
      ]
     },
     "metadata": {
      "needs_background": "light"
     },
     "output_type": "display_data"
    }
   ],
   "source": [
    "df_mean.plot()"
   ]
  },
  {
   "cell_type": "code",
   "execution_count": null,
   "id": "3ce76cec",
   "metadata": {},
   "outputs": [],
   "source": []
  },
  {
   "cell_type": "code",
   "execution_count": null,
   "id": "3bb0dff9",
   "metadata": {},
   "outputs": [],
   "source": []
  },
  {
   "cell_type": "code",
   "execution_count": null,
   "id": "ac245e95",
   "metadata": {},
   "outputs": [],
   "source": []
  }
 ],
 "metadata": {
  "kernelspec": {
   "display_name": "geo_env",
   "language": "python",
   "name": "geo_env"
  },
  "language_info": {
   "codemirror_mode": {
    "name": "ipython",
    "version": 3
   },
   "file_extension": ".py",
   "mimetype": "text/x-python",
   "name": "python",
   "nbconvert_exporter": "python",
   "pygments_lexer": "ipython3",
   "version": "3.8.10"
  }
 },
 "nbformat": 4,
 "nbformat_minor": 5
}
